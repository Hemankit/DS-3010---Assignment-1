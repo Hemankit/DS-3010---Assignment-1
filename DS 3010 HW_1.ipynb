{
 "cells": [
  {
   "cell_type": "code",
   "execution_count": 1,
   "id": "52eaf13e",
   "metadata": {},
   "outputs": [
    {
     "name": "stdout",
     "output_type": "stream",
     "text": [
      "Requirement already satisfied: newsapi-python in c:\\users\\heman\\anaconda3\\lib\\site-packages (0.2.7)\n",
      "Requirement already satisfied: requests<3.0.0 in c:\\users\\heman\\anaconda3\\lib\\site-packages (from newsapi-python) (2.28.1)\n",
      "Requirement already satisfied: charset-normalizer<3,>=2 in c:\\users\\heman\\anaconda3\\lib\\site-packages (from requests<3.0.0->newsapi-python) (2.0.4)\n",
      "Requirement already satisfied: certifi>=2017.4.17 in c:\\users\\heman\\anaconda3\\lib\\site-packages (from requests<3.0.0->newsapi-python) (2022.9.14)\n",
      "Requirement already satisfied: idna<4,>=2.5 in c:\\users\\heman\\anaconda3\\lib\\site-packages (from requests<3.0.0->newsapi-python) (3.3)\n",
      "Requirement already satisfied: urllib3<1.27,>=1.21.1 in c:\\users\\heman\\anaconda3\\lib\\site-packages (from requests<3.0.0->newsapi-python) (1.26.11)\n"
     ]
    }
   ],
   "source": [
    "!pip install newsapi-python"
   ]
  },
  {
   "cell_type": "code",
   "execution_count": 2,
   "id": "0c90d189",
   "metadata": {},
   "outputs": [
    {
     "name": "stdout",
     "output_type": "stream",
     "text": [
      "<newsapi.newsapi_client.NewsApiClient object at 0x000001E87828E4C0>\n"
     ]
    }
   ],
   "source": [
    "from newsapi import NewsApiClient\n",
    "API_KEY = '32d40244b2a545c38e78e117e7138630'\n",
    "newsapi = NewsApiClient(api_key=API_KEY)\n",
    "print(newsapi)"
   ]
  },
  {
   "cell_type": "code",
   "execution_count": null,
   "id": "3eae3156",
   "metadata": {},
   "outputs": [],
   "source": []
  }
 ],
 "metadata": {
  "kernelspec": {
   "display_name": "Python 3 (ipykernel)",
   "language": "python",
   "name": "python3"
  },
  "language_info": {
   "codemirror_mode": {
    "name": "ipython",
    "version": 3
   },
   "file_extension": ".py",
   "mimetype": "text/x-python",
   "name": "python",
   "nbconvert_exporter": "python",
   "pygments_lexer": "ipython3",
   "version": "3.9.13"
  }
 },
 "nbformat": 4,
 "nbformat_minor": 5
}
